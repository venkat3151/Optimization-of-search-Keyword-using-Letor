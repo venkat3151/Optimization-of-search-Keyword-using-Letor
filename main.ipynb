{
 "cells": [
  {
   "cell_type": "code",
   "execution_count": 65,
   "metadata": {},
   "outputs": [],
   "source": [
    "from sklearn.cluster import KMeans\n",
    "import numpy as np\n",
    "import csv\n",
    "import math\n",
    "import matplotlib.pyplot\n",
    "from matplotlib import pyplot as plt"
   ]
  },
  {
   "cell_type": "code",
   "execution_count": 66,
   "metadata": {},
   "outputs": [],
   "source": [
    "maxAcc = 0.0\n",
    "maxIter = 0\n",
    "C_Lambda = 0.03 #term used for regularization in order to prevent overfitting\n",
    "TrainingPercent = 80 #Percentage of data considered for training the model\n",
    "ValidationPercent = 10 #Percentage of data considered for validation\n",
    "TestPercent = 10 #Percentage of data considered for testing\n",
    "M = [1,10,50,100,2] # number of radial basis functions.\n",
    "PHI = [] # this is the design matrix\n",
    "IsSynthetic = False"
   ]
  },
  {
   "cell_type": "code",
   "execution_count": 67,
   "metadata": {},
   "outputs": [],
   "source": [
    "# This is used to generate raw data(datamatrix)\n",
    "# generate datasets\n",
    "def GetTargetVector(filePath):\n",
    "    t = []\n",
    "    with open(filePath, 'rU') as f:\n",
    "        reader = csv.reader(f)\n",
    "        for row in reader:  \n",
    "            t.append(int(row[0]))\n",
    "    #print(\"Raw Training Generated..\")\n",
    "    return t\n",
    "\n",
    "# this method is used to generate data from querylevelnorm.csv\n",
    "# data matrix will be of the dimensions 41 * 69623\n",
    "# 41 is the number of features\n",
    "# 69623 is the total number of rows in the dataset\n",
    "def GenerateRawData(filePath, IsSynthetic):    \n",
    "    dataMatrix = [] \n",
    "    with open(filePath, 'rU') as fi:\n",
    "        reader = csv.reader(fi)\n",
    "        for row in reader:\n",
    "            dataRow = []\n",
    "            for column in row:\n",
    "                dataRow.append(float(column))\n",
    "            dataMatrix.append(dataRow)   \n",
    "    \n",
    "    if IsSynthetic == False :\n",
    "        dataMatrix = np.delete(dataMatrix, [5,6,7,8,9], axis=1)# we are deleting this 5 features because the values are 0\n",
    "    dataMatrix = np.transpose(dataMatrix)     \n",
    "    print (\"Data Matrix Generated..\")\n",
    "    print(dataMatrix.shape)\n",
    "    return dataMatrix\n",
    "# This is taking 80% of the target values from the entire target \n",
    "def GenerateTrainingTarget (rawTraining,TrainingPercent = 80):\n",
    "    TrainingLen = int(math.ceil(len(rawTraining)*(TrainingPercent*0.01)))\n",
    "    t           = rawTraining[:TrainingLen]\n",
    "    #print(str(TrainingPercent) + \"% Training Target Generated..\")\n",
    "    return t  \n",
    "# This method is used to specify and seperate 80% of the data is for training data\n",
    "def GenerateTrainingDataMatrix(rawData, TrainingPercent = 80):\n",
    "    T_len = int(math.ceil(len(rawData[0])*0.01*TrainingPercent))\n",
    "    d2 = rawData[:,0:T_len]\n",
    "    #print(str(TrainingPercent) + \"% Training Data Generated..\")\n",
    "    return d2\n",
    "# This method is used to specify and seperate 10% of the data is for validation data.\n",
    "# The same method is called for testing data as well because it is the same 10% again.\n",
    "def GenerateValData(rawData, ValPercent, TrainingCount): \n",
    "    valSize = int(math.ceil(len(rawData[0])*ValPercent*0.01))\n",
    "    V_End = TrainingCount + valSize\n",
    "    dataMatrix = rawData[:,TrainingCount+1:V_End]\n",
    "    #print (str(ValPercent) + \"% Val Data Generated..\")  \n",
    "    return dataMatrix\n",
    "# This method is for the file QueryLevelNormt.csv\n",
    "# prepares the target values for validation dataset\n",
    "def GenerateValTargetVector(rawData, ValPercent, TrainingCount): \n",
    "    valSize = int(math.ceil(len(rawData)*ValPercent*0.01))\n",
    "    V_End = TrainingCount + valSize\n",
    "    t =rawData[TrainingCount+1:V_End]\n",
    "    #print (str(ValPercent) + \"% Val Target Data Generated..\")\n",
    "    return t\n",
    "\n",
    "# this function is used to generate the bigsigma matrix which is used in the normal distribution formula.\n",
    "# Big sigma is the variance matrix. \n",
    "# We assume all varainces are equal for a particular feature.\n",
    "# Hence the variance matrix will be of the shape 41 * 41.\n",
    "# it is not 46 * 46 because 5 features are being deleted.\n",
    "# we ll have elements only in the diagnol of the matrix.\n",
    "def GenerateBigSigma(Data, MuMatrix,TrainingPercent,IsSynthetic):\n",
    "    BigSigma    = np.zeros((len(Data),len(Data)))\n",
    "    DataT       = np.transpose(Data)\n",
    "    TrainingLen = math.ceil(len(DataT)*(TrainingPercent*0.01))        \n",
    "    varVect     = []\n",
    "    for i in range(0,len(DataT[0])):\n",
    "        vct = []\n",
    "        for j in range(0,int(TrainingLen)):\n",
    "            vct.append(Data[i][j])    \n",
    "        varVect.append(np.var(vct))\n",
    "    \n",
    "    for j in range(len(Data)):\n",
    "        BigSigma[j][j] = varVect[j]\n",
    "    if IsSynthetic == True:\n",
    "        BigSigma = np.dot(3,BigSigma)\n",
    "    else:\n",
    "        BigSigma = np.dot(200,BigSigma)\n",
    "    ##print (\"BigSigma Generated..\")\n",
    "    return BigSigma\n",
    "# The gaussian distribution function is 0.5(X-Mu)* BigSigInv* (x-Mu)transpose.\n",
    "def GetScalar(DataRow,MuRow, BigSigInv):  \n",
    "    R = np.subtract(DataRow,MuRow) # This subtracts X- Mu and stores in R\n",
    "    T = np.dot(BigSigInv,np.transpose(R))  # Multiplies R transpose and BigSigInv and stores in T\n",
    "    L = np.dot(R,T) # Multiplies T and R and returns L\n",
    "    return L\n",
    "# This functions is the gaussian distribution formula.\n",
    "# This is used to return each PHI and not the PHI matrix.\n",
    "def GetRadialBasisOut(DataRow,MuRow, BigSigInv):    \n",
    "    phi_x = math.exp(-0.5*GetScalar(DataRow,MuRow,BigSigInv))\n",
    "    return phi_x\n",
    "# This method is used to get the Phi matrix which is the design matrix.\n",
    "# Phi matrix is the result of the radial basis function.\n",
    "# We are using 10 radial basis function and hence dimension of phi matrix will be 10 * number of data\n",
    "def GetPhiMatrix(Data, MuMatrix, BigSigma, TrainingPercent = 80):\n",
    "    DataT = np.transpose(Data)\n",
    "    TrainingLen = math.ceil(len(DataT)*(TrainingPercent*0.01 ))         \n",
    "    PHI = np.zeros((int(TrainingLen),len(MuMatrix))) \n",
    "    BigSigInv = np.linalg.inv(BigSigma) # We calculated BigSigma only. But we needed Inverse of Big Sigma acc. to the formula\n",
    "    for  C in range(0,len(MuMatrix)):\n",
    "        for R in range(0,int(TrainingLen)):\n",
    "            PHI[R][C] = GetRadialBasisOut(DataT[R], MuMatrix[C], BigSigInv)#Every PHI calculated is stored in a Matrix called PHI\n",
    "    #print (\"PHI Generated..\")\n",
    "    return PHI\n",
    "\n",
    "# Lamba is a regularization term used to prevent overfitting\n",
    "# This method is used to get the closed form W* \n",
    "def GetWeightsClosedForm(PHI, T, Lambda):\n",
    "    Lambda_I = np.identity(len(PHI[0]))\n",
    "    for i in range(0,len(PHI[0])):\n",
    "        Lambda_I[i][i] = Lambda\n",
    "    PHI_T       = np.transpose(PHI)\n",
    "    PHI_SQR     = np.dot(PHI_T,PHI)\n",
    "    PHI_SQR_LI  = np.add(Lambda_I,PHI_SQR)\n",
    "    PHI_SQR_INV = np.linalg.inv(PHI_SQR_LI)\n",
    "    INTER       = np.dot(PHI_SQR_INV, PHI_T)\n",
    "    W           = np.dot(INTER, T)\n",
    "    ##print (\"Training Weights Generated..\")\n",
    "    return W\n",
    "\n",
    "# This is for the regression formula y = phi *w transpose\n",
    "# returns our predicted value\n",
    "def GetValTest(VAL_PHI,W):\n",
    "    Y = np.dot(W,np.transpose(VAL_PHI))\n",
    "    ##print (\"Test Out Generated..\")\n",
    "    return Y\n",
    "# This is used to find our accuracy and Erms based on target and the predicted value.\n",
    "def GetErms(VAL_TEST_OUT,ValDataAct):\n",
    "    sum = 0.0\n",
    "    t=0\n",
    "    accuracy = 0.0\n",
    "    counter = 0\n",
    "    val = 0.0\n",
    "    for i in range (0,len(VAL_TEST_OUT)):\n",
    "        sum = sum + math.pow((ValDataAct[i] - VAL_TEST_OUT[i]),2)\n",
    "        if(int(np.around(VAL_TEST_OUT[i], 0)) == ValDataAct[i]):\n",
    "            counter+=1\n",
    "    accuracy = (float((counter*100))/float(len(VAL_TEST_OUT)))\n",
    "    ##print (\"Accuracy Generated..\")\n",
    "    ##print (\"Validation E_RMS : \" + str(math.sqrt(sum/len(VAL_TEST_OUT))))\n",
    "    return (str(accuracy) + ',' +  str(math.sqrt(sum/len(VAL_TEST_OUT))))"
   ]
  },
  {
   "cell_type": "markdown",
   "metadata": {},
   "source": [
    "## Fetch and Prepare Dataset"
   ]
  },
  {
   "cell_type": "code",
   "execution_count": 68,
   "metadata": {},
   "outputs": [
    {
     "name": "stderr",
     "output_type": "stream",
     "text": [
      "C:\\Users\\tceve\\Anaconda3\\lib\\site-packages\\ipykernel_launcher.py:5: DeprecationWarning: 'U' mode is deprecated\n",
      "  \"\"\"\n",
      "C:\\Users\\tceve\\Anaconda3\\lib\\site-packages\\ipykernel_launcher.py:18: DeprecationWarning: 'U' mode is deprecated\n"
     ]
    },
    {
     "name": "stdout",
     "output_type": "stream",
     "text": [
      "Data Matrix Generated..\n",
      "(41, 69623)\n"
     ]
    }
   ],
   "source": [
    "RawTarget = GetTargetVector('Querylevelnorm_t.csv')\n",
    "RawData   = GenerateRawData('Querylevelnorm_X.csv',IsSynthetic)"
   ]
  },
  {
   "cell_type": "markdown",
   "metadata": {},
   "source": [
    "## Prepare Training Data"
   ]
  },
  {
   "cell_type": "code",
   "execution_count": 69,
   "metadata": {},
   "outputs": [
    {
     "name": "stdout",
     "output_type": "stream",
     "text": [
      "(55699,)\n",
      "(41, 55699)\n"
     ]
    }
   ],
   "source": [
    "# genertae training data and its target values\n",
    "TrainingTarget = np.array(GenerateTrainingTarget(RawTarget,TrainingPercent))\n",
    "TrainingData   = GenerateTrainingDataMatrix(RawData,TrainingPercent)\n",
    "print(TrainingTarget.shape)\n",
    "print(TrainingData.shape)"
   ]
  },
  {
   "cell_type": "markdown",
   "metadata": {},
   "source": [
    "## Prepare Validation Data"
   ]
  },
  {
   "cell_type": "code",
   "execution_count": 70,
   "metadata": {},
   "outputs": [
    {
     "name": "stdout",
     "output_type": "stream",
     "text": [
      "(6962,)\n",
      "(41, 6962)\n"
     ]
    }
   ],
   "source": [
    "# genertae validation data and its target values\n",
    "ValDataAct = np.array(GenerateValTargetVector(RawTarget,ValidationPercent, (len(TrainingTarget))))\n",
    "ValData    = GenerateValData(RawData,ValidationPercent, (len(TrainingTarget)))\n",
    "print(ValDataAct.shape)\n",
    "print(ValData.shape)"
   ]
  },
  {
   "cell_type": "markdown",
   "metadata": {},
   "source": [
    "## Prepare Test Data"
   ]
  },
  {
   "cell_type": "code",
   "execution_count": 71,
   "metadata": {},
   "outputs": [
    {
     "name": "stdout",
     "output_type": "stream",
     "text": [
      "(6962,)\n",
      "(41, 6962)\n"
     ]
    }
   ],
   "source": [
    "# genertae testing data and its target values\n",
    "TestDataAct = np.array(GenerateValTargetVector(RawTarget,TestPercent, (len(TrainingTarget)+len(ValDataAct))))\n",
    "TestData = GenerateValData(RawData,TestPercent, (len(TrainingTarget)+len(ValDataAct)))\n",
    "print(ValDataAct.shape)\n",
    "print(ValData.shape)"
   ]
  },
  {
   "cell_type": "markdown",
   "metadata": {},
   "source": [
    "## Closed Form Solution [Finding Weights using Moore- Penrose pseudo- Inverse Matrix]"
   ]
  },
  {
   "cell_type": "code",
   "execution_count": 72,
   "metadata": {},
   "outputs": [
    {
     "name": "stdout",
     "output_type": "stream",
     "text": [
      "(1, 41)\n",
      "(41, 41)\n",
      "(55699, 1)\n",
      "(1,)\n",
      "(6962, 1)\n",
      "(6961, 1)\n",
      "UBITname      = vviswana\n",
      "Person Number = 50290589\n",
      "----------------------------------------------------\n",
      "------------------LeToR Data------------------------\n",
      "----------------------------------------------------\n",
      "-------Closed Form with Radial Basis Function-------\n",
      "----------------------------------------------------\n",
      "M = 10 \n",
      "Lambda = 0.9\n",
      "E_rms Training   = 0.565137868842015\n",
      "Accuracy Training   = 74.52198423670085\n",
      "E_rms Validation = 0.5543829496065422\n",
      "Accuracy Validation = 75.17954610744039\n",
      "E_rms Testing    = 0.6402356289634681\n",
      "Accuracy Testing    = 70.23416175836805\n",
      "(10, 41)\n",
      "(41, 41)\n",
      "(55699, 10)\n",
      "(10,)\n",
      "(6962, 10)\n",
      "(6961, 10)\n",
      "UBITname      = vviswana\n",
      "Person Number = 50290589\n",
      "----------------------------------------------------\n",
      "------------------LeToR Data------------------------\n",
      "----------------------------------------------------\n",
      "-------Closed Form with Radial Basis Function-------\n",
      "----------------------------------------------------\n",
      "M = 10 \n",
      "Lambda = 0.9\n",
      "E_rms Training   = 0.549469406713785\n",
      "Accuracy Training   = 73.92233253738846\n",
      "E_rms Validation = 0.5384281741393284\n",
      "Accuracy Validation = 74.6768170066073\n",
      "E_rms Testing    = 0.6279788453828589\n",
      "Accuracy Testing    = 69.87501795719005\n",
      "(50, 41)\n",
      "(41, 41)\n",
      "(55699, 50)\n",
      "(50,)\n",
      "(6962, 50)\n",
      "(6961, 50)\n",
      "UBITname      = vviswana\n",
      "Person Number = 50290589\n",
      "----------------------------------------------------\n",
      "------------------LeToR Data------------------------\n",
      "----------------------------------------------------\n",
      "-------Closed Form with Radial Basis Function-------\n",
      "----------------------------------------------------\n",
      "M = 10 \n",
      "Lambda = 0.9\n",
      "E_rms Training   = 0.5407355725303156\n",
      "Accuracy Training   = 73.0138781665739\n",
      "E_rms Validation = 0.5369459424690324\n",
      "Accuracy Validation = 73.3409939672508\n",
      "E_rms Testing    = 0.6197176343077924\n",
      "Accuracy Testing    = 69.28602212325815\n",
      "(100, 41)\n",
      "(41, 41)\n",
      "(55699, 100)\n",
      "(100,)\n",
      "(6962, 100)\n",
      "(6961, 100)\n",
      "UBITname      = vviswana\n",
      "Person Number = 50290589\n",
      "----------------------------------------------------\n",
      "------------------LeToR Data------------------------\n",
      "----------------------------------------------------\n",
      "-------Closed Form with Radial Basis Function-------\n",
      "----------------------------------------------------\n",
      "M = 10 \n",
      "Lambda = 0.9\n",
      "E_rms Training   = 0.5386691233395235\n",
      "Accuracy Training   = 73.11800929998743\n",
      "E_rms Validation = 0.5356554245906104\n",
      "Accuracy Validation = 73.51335823039356\n",
      "E_rms Testing    = 0.6186146523038446\n",
      "Accuracy Testing    = 68.85504956184457\n",
      "(2, 41)\n",
      "(41, 41)\n",
      "(55699, 2)\n",
      "(2,)\n",
      "(6962, 2)\n",
      "(6961, 2)\n",
      "UBITname      = vviswana\n",
      "Person Number = 50290589\n",
      "----------------------------------------------------\n",
      "------------------LeToR Data------------------------\n",
      "----------------------------------------------------\n",
      "-------Closed Form with Radial Basis Function-------\n",
      "----------------------------------------------------\n",
      "M = 10 \n",
      "Lambda = 0.9\n",
      "E_rms Training   = 0.5627948139796906\n",
      "Accuracy Training   = 74.52198423670085\n",
      "E_rms Validation = 0.5509381914793686\n",
      "Accuracy Validation = 75.17954610744039\n",
      "E_rms Testing    = 0.638449311889341\n",
      "Accuracy Testing    = 70.23416175836805\n"
     ]
    },
    {
     "data": {
      "image/png": "[encoded data removed]",
      "text/plain": [
       "<Figure size 432x288 with 1 Axes>"
      ]
     },
     "metadata": {},
     "output_type": "display_data"
    }
   ],
   "source": [
    "ErmsArr = []\n",
    "AccuracyArr = []\n",
    "for i in M :\n",
    "    # We are using the K means clustering algorithm to cluster the data.\n",
    "    # Here we are having 10 radial basis function, which means 10 clusters will be formed.\n",
    "    kmeans = KMeans(n_clusters=i, random_state=0).fit(np.transpose(TrainingData))\n",
    "    # We have to select one representative from each cluster.\n",
    "    # we are choosing the center of each cluster to be the representative.\n",
    "    # This is also known as the feature points.\n",
    "    Mu = kmeans.cluster_centers_\n",
    "\n",
    "    BigSigma     = GenerateBigSigma(RawData, Mu, TrainingPercent,IsSynthetic)\n",
    "    TRAINING_PHI = GetPhiMatrix(RawData, Mu, BigSigma, TrainingPercent)\n",
    "    W            = GetWeightsClosedForm(TRAINING_PHI,TrainingTarget, (C_Lambda)) \n",
    "    #Before Calculating Validation/Testing error, we need to create validation/Testing Design matrix.\n",
    "    # We cannot use the same Training Data design matrix.\n",
    "    TEST_PHI     = GetPhiMatrix(TestData, Mu, BigSigma, 100) \n",
    "    VAL_PHI      = GetPhiMatrix(ValData, Mu, BigSigma, 100)\n",
    "    print(Mu.shape)\n",
    "    print(BigSigma.shape)\n",
    "    print(TRAINING_PHI.shape)\n",
    "    print(W.shape)\n",
    "    print(VAL_PHI.shape)\n",
    "    print(TEST_PHI.shape)\n",
    "    \n",
    "    # used to get the predicted values for trainig, testing and validation datasets\n",
    "    TR_TEST_OUT  = GetValTest(TRAINING_PHI,W)\n",
    "    VAL_TEST_OUT = GetValTest(VAL_PHI,W)\n",
    "    TEST_OUT     = GetValTest(TEST_PHI,W)\n",
    "\n",
    "     # used to get the Erms values for trainig, testing and validation datasets\n",
    "    TrainingAccuracy   = str(GetErms(TR_TEST_OUT,TrainingTarget))\n",
    "    ValidationAccuracy = str(GetErms(VAL_TEST_OUT,ValDataAct))\n",
    "    TestAccuracy       = str(GetErms(TEST_OUT,TestDataAct))\n",
    "\n",
    "    print ('UBITname      = vviswana')\n",
    "    print ('Person Number = 50290589')\n",
    "    print ('----------------------------------------------------')\n",
    "    print (\"------------------LeToR Data------------------------\")\n",
    "    print ('----------------------------------------------------')\n",
    "    print (\"-------Closed Form with Radial Basis Function-------\")\n",
    "    print ('----------------------------------------------------')\n",
    "    print (\"M = 10 \\nLambda = 0.9\")\n",
    "    print (\"E_rms Training   = \" + str(float(TrainingAccuracy.split(',')[1])))\n",
    "    print (\"Accuracy Training   = \" + str(float(TrainingAccuracy.split(',')[0])))\n",
    "    print (\"E_rms Validation = \" + str(float(ValidationAccuracy.split(',')[1])))\n",
    "    print (\"Accuracy Validation = \" + str(float(ValidationAccuracy.split(',')[0])))\n",
    "    print (\"E_rms Testing    = \" + str(float(TestAccuracy.split(',')[1])))\n",
    "    print (\"Accuracy Testing    = \" + str(float(TestAccuracy.split(',')[0])))\n",
    "    ErmsArr.append(float(TestAccuracy.split(',')[1]))\n",
    "    AccuracyArr.append(float(TestAccuracy.split(',')[0]))\n",
    "\n",
    "plt.plot(M, ErmsArr, 'ro')\n",
    "plt.show()\n",
    "\n"
   ]
  },
  {
   "cell_type": "code",
   "execution_count": 73,
   "metadata": {},
   "outputs": [
    {
     "data": {
      "image/png": "[encoded data removed]",
      "text/plain": [
       "<Figure size 432x288 with 1 Axes>"
      ]
     },
     "metadata": {},
     "output_type": "display_data"
    }
   ],
   "source": [
    "plt.plot(M,AccuracyArr,'bo')\n",
    "plt.show()"
   ]
  },
  {
   "cell_type": "markdown",
   "metadata": {},
   "source": [
    "## Finding Erms on training, validation and test set "
   ]
  },
  {
   "cell_type": "code",
   "execution_count": null,
   "metadata": {},
   "outputs": [],
   "source": []
  },
  {
   "cell_type": "code",
   "execution_count": null,
   "metadata": {},
   "outputs": [],
   "source": []
  },
  {
   "cell_type": "markdown",
   "metadata": {},
   "source": [
    "## Gradient Descent solution for Linear Regression"
   ]
  },
  {
   "cell_type": "code",
   "execution_count": 74,
   "metadata": {},
   "outputs": [
    {
     "name": "stdout",
     "output_type": "stream",
     "text": [
      "----------------------------------------------------\n",
      "--------------Please Wait for 2 mins!----------------\n",
      "----------------------------------------------------\n"
     ]
    }
   ],
   "source": [
    "print ('----------------------------------------------------')\n",
    "print ('--------------Please Wait for 2 mins!----------------')\n",
    "print ('----------------------------------------------------')"
   ]
  },
  {
   "cell_type": "code",
   "execution_count": 75,
   "metadata": {},
   "outputs": [
    {
     "name": "stdout",
     "output_type": "stream",
     "text": [
      "----------Gradient Descent Solution--------------------\n",
      "M = 10 \n",
      "Lambda  = 0.0001\n",
      "eta=0.01\n",
      "Accuracy Training   = 0.56279\n",
      "Accuracy Validation = 0.55091\n",
      "Accuracy Testing    = 0.63548\n"
     ]
    }
   ],
   "source": [
    "# The w* obtained from previous method is multiplied with 220 a scalar value\n",
    "# This is because SGD  first takes a random initial value w(0)\n",
    "W_Now        = np.dot(1, W)\n",
    "# La is the lambda which as stated earlier is used as a regularizer in order to prevent overfitting\n",
    "La           = 2 \n",
    "learningRate = [0.001,0.01,0.05,0.1,0.15]\n",
    "# Learning rate in SGD must not be too high as it might never converge or if it is too low it will take lot of time to converge\n",
    "L_Erms_Val   = []\n",
    "L_Erms_TR    = []\n",
    "\n",
    "L_Erms_final = []\n",
    "\n",
    "for j in learningRate : \n",
    "    L_Erms_Test  = []\n",
    "    for i in range(0,400):\n",
    "        \n",
    "        # Number of data considered in the entire dataset\n",
    "        # The next 4 steps are based on the formula where we calculate the weights based on previous iteration.\n",
    "        # They are used to adjust the weights based on previous value.\n",
    "        #print ('---------Iteration: ' + str(i) + '--------------')\n",
    "        Delta_E_D     = -np.dot((TrainingTarget[i] - np.dot(np.transpose(W_Now),TRAINING_PHI[i])),TRAINING_PHI[i])\n",
    "        La_Delta_E_W  = np.dot(La,W_Now)\n",
    "        Delta_E       = np.add(Delta_E_D,La_Delta_E_W)    \n",
    "        Delta_W       = -np.dot(j,Delta_E)\n",
    "        W_T_Next      = W_Now + Delta_W\n",
    "        W_Now         = W_T_Next # W_Now will be the updated weight now\n",
    "\n",
    "        #-----------------TrainingData Accuracy---------------------#\n",
    "        TR_TEST_OUT   = GetValTest(TRAINING_PHI,W_T_Next) \n",
    "        Erms_TR       = GetErms(TR_TEST_OUT,TrainingTarget)\n",
    "        L_Erms_TR.append(float(Erms_TR.split(',')[1]))\n",
    "\n",
    "        #-----------------ValidationData Accuracy---------------------#\n",
    "        VAL_TEST_OUT  = GetValTest(VAL_PHI,W_T_Next) \n",
    "        Erms_Val      = GetErms(VAL_TEST_OUT,ValDataAct)\n",
    "        L_Erms_Val.append(float(Erms_Val.split(',')[1]))\n",
    "\n",
    "        #-----------------TestingData Accuracy---------------------#\n",
    "        TEST_OUT      = GetValTest(TEST_PHI,W_T_Next) \n",
    "        Erms_Test = GetErms(TEST_OUT,TestDataAct)\n",
    "        L_Erms_Test.append(float(Erms_Test.split(',')[1]))\n",
    "        \n",
    "    L_Erms_final.append(min(L_Erms_Test))  \n",
    "\n",
    "print ('----------Gradient Descent Solution--------------------')\n",
    "print (\"M = 10 \\nLambda  = 0.0001\\neta=0.01\")\n",
    "print (\"Accuracy Training   = \" + str(np.around(min(L_Erms_TR),5)))\n",
    "print (\"Accuracy Validation = \" + str(np.around(min(L_Erms_Val),5)))\n",
    "print (\"Accuracy Testing    = \" + str(np.around(min(L_Erms_Test),5)))\n",
    " \n",
    "\n"
   ]
  },
  {
   "cell_type": "code",
   "execution_count": 76,
   "metadata": {
    "scrolled": true
   },
   "outputs": [
    {
     "data": {
      "image/png": "[encoded data removed]",
      "text/plain": [
       "<Figure size 432x288 with 1 Axes>"
      ]
     },
     "metadata": {},
     "output_type": "display_data"
    }
   ],
   "source": [
    "plt.plot(learningRate, L_Erms_final, 'ro')\n",
    "plt.show()"
   ]
  },
  {
   "cell_type": "code",
   "execution_count": null,
   "metadata": {},
   "outputs": [],
   "source": []
  }
 ],
 "metadata": {
  "kernelspec": {
   "display_name": "Python 3",
   "language": "python",
   "name": "python3"
  },
  "language_info": {
   "codemirror_mode": {
    "name": "ipython",
    "version": 3
   },
   "file_extension": ".py",
   "mimetype": "text/x-python",
   "name": "python",
   "nbconvert_exporter": "python",
   "pygments_lexer": "ipython3",
   "version": "3.6.5"
  }
 },
 "nbformat": 4,
 "nbformat_minor": 2
}
